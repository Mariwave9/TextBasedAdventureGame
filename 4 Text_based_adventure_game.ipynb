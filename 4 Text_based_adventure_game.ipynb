{
 "cells": [
  {
   "cell_type": "code",
   "execution_count": null,
   "metadata": {},
   "outputs": [],
   "source": [
    "################################################################## Text based adventure game ##################################################################\n",
    "\n",
    "'''TASK: A complete text game, the program will let users move through rooms based on user input and get descriptions\n",
    "of each room. To create this, you’ll need to establish the direction in which the user can move, a\n",
    "way to track how far the user has moved (and therefore which room he/she is in), and to print\n",
    "out a description. You’ll also need to set limits for how far the user can move. In other words,\n",
    "create “walls” around the rooms that tell the user, “You can’t move further in this direction.'''"
   ]
  },
  {
   "cell_type": "code",
   "execution_count": 4,
   "metadata": {},
   "outputs": [
    {
     "name": "stdout",
     "output_type": "stream",
     "text": [
      "Welcome to Text Based Adventure Game!!\n",
      "You have just woken up in the middle of a room, you find yourself disoriented and you do not know where you are. You just realise you have been kidnapped! The goal of this game is to find the way out of the building by choosing the right direction. Will you be able to escape safely? Please, enter your name to start: \n",
      "Let's play! Good luck Mariona\n"
     ]
    }
   ],
   "source": [
    "# Introduction to the game\n",
    "print(\"Welcome to Text Based Adventure Game!!\\n\"\n",
    "        \"You have just woken up in the middle of a room, you find yourself disoriented and you do not know where you are. You just realise you have been kidnapped! The goal of this game is to find the way out of the building by choosing the right direction. Will you be able to escape safely? Please, enter your name to start: \")\n",
    "name = input() #asking the user for their name\n",
    "print(\"Let's play! Good luck\", name)\n"
   ]
  },
  {
   "cell_type": "code",
   "execution_count": 5,
   "metadata": {},
   "outputs": [],
   "source": [
    "# DEFINING A FUNCTION FOR EACH ROOM IN THE GAME\n",
    "\n",
    "# Intro Room - the user will start playing from this room \n",
    "def IntroRoom():\n",
    "    directions = [\"forward\", \"backward\", \"right\"] #options the user can use that will direct them to another room\n",
    "    print(\"In the room where you are there are three doors. Which direction would you like to go?\")\n",
    "    print(\"Options: forward, backward, right, left\")\n",
    "    user = \"\"\n",
    "    while user not in directions:\n",
    "        user = input()\n",
    "        if user.lower().strip() == \"forward\":\n",
    "            WolfRoom() #this will direct the user to the WolfRoom\n",
    "        elif user.lower().strip() == \"backward\":\n",
    "            SicknessRoom() #this will direct the user to the SicknessRoom\n",
    "        elif user.lower().strip() == \"right\":\n",
    "            GhostRoom() #this will direct the user to the GhostRoom\n",
    "        elif user.lower().strip() == \"left\":\n",
    "            print(\"You hit a wall, please choose other option.\") #this will allow the user to choose another option, as this one leads nowhere\n",
    "        else:\n",
    "            print(\"Please enter a valid option.\") #this message will appear if the user hasn't given one of the four options presented"
   ]
  },
  {
   "cell_type": "code",
   "execution_count": 6,
   "metadata": {},
   "outputs": [],
   "source": [
    "# Defining the function for the GhostRoom\n",
    "\n",
    "def GhostRoom():\n",
    "    directions = [\"left\"]\n",
    "    print(\"You are now in a dark and silent room with murdered people lying on the floor. Where would you like to go?\")\n",
    "    print(\"Options: forward, backward, right, left\")\n",
    "    user = \"\"\n",
    "    while user not in directions:\n",
    "        user = input()\n",
    "        if user.lower().strip() == \"left\":\n",
    "            print(\"You made it! You have found an exit. You are safe now!\")\n",
    "            quit() #this will stop the game as the user has found an exit\n",
    "        elif user.lower().strip() == \"right\":\n",
    "            print(\"Multiple ghosts start emerging as you enter the room. You are killed. END OF THE GAME.\")\n",
    "            quit() #this will stop the game as the user has been killed\n",
    "        elif user.lower().strip() == \"forward\":\n",
    "            print(\"You hit a wall, please choose another option.\") #this will allow the user to choose another option, as this one leads nowhere\n",
    "        elif user.lower().strip() == \"backward\":\n",
    "            IntroRoom() #this will direct the user back to the IntroRoom\n",
    "        else:\n",
    "            print(\"Please enter a valid option.\") #this message will appear if the user hasn't given one of the four options presented"
   ]
  },
  {
   "cell_type": "code",
   "execution_count": 7,
   "metadata": {},
   "outputs": [],
   "source": [
    "# Defining the function for the SicknessRoom\n",
    "\n",
    "def SicknessRoom():\n",
    "    directions = [\"forward\"]\n",
    "    print(\"You suddenly feel sick. You need to try to find some medicine. Where would you like to go?\")\n",
    "    print(\"Options: forward, backward, right, left\")\n",
    "    user = \"\"\n",
    "    while user not in directions:\n",
    "        user = input()\n",
    "        if user.lower().strip() == \"backward\":\n",
    "            IntroRoom() #this will direct the user back to the IntroRoom\n",
    "        elif user.lower().strip() == \"forward\":\n",
    "            print(\"After opening up the door you find drugs that make you feel better. However, this is a dead-end hallway and you need to go back.\\nOptions: forward, backward, right, left\")\n",
    "        elif user.lower().strip() == \"left\":\n",
    "            print(\"Oh no! Time's up! You get sicker and die. END OF THE GAME.\") #this will stop the game as the user has died\n",
    "            quit()\n",
    "        elif user.lower().strip() == \"right\": \n",
    "            print(\"You made it! You have found an exit. You are safe now!\")  \n",
    "            quit() #this will stop the game as the user has found an exit\n",
    "        else:\n",
    "            print(\"Please enter a valid option.\") #this message will appear if the user hasn't given one of the four options presented"
   ]
  },
  {
   "cell_type": "code",
   "execution_count": 8,
   "metadata": {},
   "outputs": [],
   "source": [
    "# Defining the function for the WolfRoom\n",
    "\n",
    "def WolfRoom():\n",
    "    directions = [\"backward\", \"left\"]\n",
    "    print(\"You find a room with a pack of wolves. Where would you like to go?\")\n",
    "    print(\"Options: forward, backward, right, left\")\n",
    "    user = \"\"\n",
    "    while user not in directions:\n",
    "        user = input()\n",
    "        if user.lower().strip() == \"forward\":\n",
    "            print(\"You hit a wall, please choose another option.\") #this will allow the user to choose another option, as this one leads nowhere\n",
    "        elif user.lower().strip() == \"backward\":\n",
    "            IntroRoom() #this will direct the user back to the IntroRoom\n",
    "        elif user.lower().strip() == \"right\":\n",
    "            print(\"Oh no! You accidentally hurt a cub and the pack of wolves attack you and you are killed. END OF THE GAME.\")\n",
    "            quit() #this will stop the game as the user has been killed\n",
    "        elif user.lower().strip() == \"left\":\n",
    "            SwimRoom() #this will direct the user to the SwimRoom\n",
    "        else: \n",
    "            print(\"Please enter a valid option.\") #this message will appear if the user hasn't given one of the four options presented"
   ]
  },
  {
   "cell_type": "code",
   "execution_count": 9,
   "metadata": {},
   "outputs": [],
   "source": [
    "# Defining the function for the SwimRoom\n",
    "\n",
    "def SwimRoom():\n",
    "    directions = [\"right\"]\n",
    "    print(\"You are now in a room with a swimming pool in the middle. Which direction would you like to go?\")\n",
    "    print(\"Options: forward, backward, right, left\")\n",
    "    user = \"\"\n",
    "    while user not in directions:\n",
    "        user = input()\n",
    "        if user.lower().strip() == \"right\":\n",
    "            print(\"You hit a wall, please choose another option.\") #this will allow the user to choose another option, as this one leads nowhere\n",
    "        elif user.lower().strip() == \"left\":\n",
    "            print(\"You made it! You have found an exit. You are safe now!\")\n",
    "            quit() #this will stop the game as the user has found an exit\n",
    "        elif user.lower().strip() == \"backward\":\n",
    "            WolfRoom() #this will direct the user back to the WolfRoom\n",
    "        elif user.lower().strip() == \"forward\":\n",
    "            print(\"You drown as that room was full of water. You die. END OF THE GAME.\") \n",
    "        else: \n",
    "            print(\"Please enter a valid option.\") #this message will appear if the user hasn't given one of the four options presented"
   ]
  },
  {
   "cell_type": "code",
   "execution_count": null,
   "metadata": {},
   "outputs": [
    {
     "name": "stdout",
     "output_type": "stream",
     "text": [
      "In the room where you are there are three doors. Which direction would you like to go?\n",
      "Options: forward, backward, right, left\n",
      "You find a room with a pack of wolves. Where would you like to go?\n",
      "Options: forward, backward, right, left\n",
      "You are now in a room with a swimming pool in the middle. Which direction would you like to go?\n",
      "Options: forward, backward, right, left\n",
      "You made it! You have found an exit. You are safe now!\n",
      "Please enter a valid option.\n",
      "You made it! You have found an exit. You are safe now!\n"
     ]
    },
    {
     "ename": "",
     "evalue": "",
     "output_type": "error",
     "traceback": [
      "\u001b[1;31mCanceled future for execute_request message before replies were done"
     ]
    },
    {
     "ename": "",
     "evalue": "",
     "output_type": "error",
     "traceback": [
      "\u001b[1;31mThe Kernel crashed while executing code in the the current cell or a previous cell. Please review the code in the cell(s) to identify a possible cause of the failure. Click <a href='https://aka.ms/vscodeJupyterKernelCrash'>here</a> for more info. View Jupyter <a href='command:jupyter.viewOutput'>log</a> for further details."
     ]
    }
   ],
   "source": [
    "#calling the first function to start the game\n",
    "IntroRoom()"
   ]
  }
 ],
 "metadata": {
  "kernelspec": {
   "display_name": "base",
   "language": "python",
   "name": "python3"
  },
  "language_info": {
   "codemirror_mode": {
    "name": "ipython",
    "version": 3
   },
   "file_extension": ".py",
   "mimetype": "text/x-python",
   "name": "python",
   "nbconvert_exporter": "python",
   "pygments_lexer": "ipython3",
   "version": "3.8.8"
  },
  "orig_nbformat": 4,
  "vscode": {
   "interpreter": {
    "hash": "eff311ca2a4fe59b659b8a0d54ff4d98afa6fa933bb35d48bbf41121ea0fb99e"
   }
  }
 },
 "nbformat": 4,
 "nbformat_minor": 2
}
